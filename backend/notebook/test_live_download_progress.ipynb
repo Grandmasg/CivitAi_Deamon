{
 "cells": [
  {
   "cell_type": "markdown",
   "id": "b185768c",
   "metadata": {},
   "source": [
    "# Import Testing Framework\n",
    "\n",
    "This notebook demonstrates how to test live download progress events from the Civitai Download Daemon backend. We will use Python's `unittest` framework and the `websockets` and `httpx` libraries to:\n",
    "\n",
    "- Start a real (or mock) download\n",
    "- Connect to the WebSocket endpoint\n",
    "- Assert that progress events are received during the download\n",
    "\n",
    "Let's start by importing the required libraries."
   ]
  },
  {
   "cell_type": "code",
   "execution_count": null,
   "id": "dc02ab9c",
   "metadata": {},
   "outputs": [],
   "source": [
    "import unittest\n",
    "import asyncio\n",
    "# import websockets\n",
    "from websockets.sync.client import connect\n",
    "import httpx\n",
    "import time"
   ]
  },
  {
   "cell_type": "code",
   "execution_count": null,
   "id": "85bc292f",
   "metadata": {},
   "outputs": [],
   "source": [
    "import nest_asyncio\n",
    "nest_asyncio.apply()"
   ]
  },
  {
   "cell_type": "markdown",
   "id": "6d04731f",
   "metadata": {},
   "source": [
    "# Define the Test Scenario\n",
    "\n",
    "We want to verify that when a download is started via the API, the backend emits real-time progress events over the WebSocket. For this test, we'll:\n",
    "\n",
    "- Start a download of a small file (or a mock endpoint)\n",
    "- Connect to the WebSocket endpoint\n",
    "- Collect and display progress events\n",
    "\n",
    "The test will pass if at least one progress event is received during the download."
   ]
  },
  {
   "cell_type": "code",
   "execution_count": null,
   "id": "1859bdfb",
   "metadata": {},
   "outputs": [],
   "source": [
    "class TestLiveDownloadProgress(unittest.TestCase):\n",
    "    import uuid\n",
    "    WS_URL = \"ws://localhost:8000/ws/downloads\"\n",
    "    API_URL = \"http://localhost:8000/api/download\"\n",
    "    TEST_FILE_URL = \"https://nbg1-speed.hetzner.com/1GB.bin\"  # Aanbevolen, niet deprecated\n",
    "\n",
    "    def collect_progress_events(self, model_id, filename):\n",
    "        import json\n",
    "        events = []\n",
    "        headers = [(\"Authorization\", \"Bearer testtoken\")]\n",
    "        msg_count = 0\n",
    "        try:\n",
    "            with connect(self.WS_URL, additional_headers=headers) as ws:\n",
    "                start = time.time()\n",
    "                while time.time() - start < 30:  # Maximaal 30 seconden wachten\n",
    "                    try:\n",
    "                        msg = ws.recv()\n",
    "                        msg_count += 1\n",
    "                        print('WS message:', msg)  # Debug: print all received messages\n",
    "                        print('WS message type:', type(msg), 'repr:', repr(msg))\n",
    "                        try:\n",
    "                            event_obj = json.loads(msg)\n",
    "                        except Exception as e:\n",
    "                            print(f\"Failed to parse WS message as JSON: {e}\")\n",
    "                            continue\n",
    "                        print('Parsed event:', event_obj)\n",
    "                        events.append(event_obj)\n",
    "                        event_type = event_obj.get('event')\n",
    "                        if event_type == 'download_finished':\n",
    "                            print(\"Breaking on first download_finished event.\")\n",
    "                            return events  # Break on first download_finished event, regardless of model_id/filename\n",
    "                    except Exception as e:\n",
    "                        print(f\"WebSocket recv failed: {type(e).__name__}: {e}\")\n",
    "                        break\n",
    "        except Exception as e:\n",
    "            print(f\"WebSocket connection failed: {type(e).__name__}: {e}\")\n",
    "        if msg_count == 0:\n",
    "            print(\"WARNING: No messages received from WebSocket!\")\n",
    "        return events\n",
    "\n",
    "    def test_live_progress(self):\n",
    "        # Use a unique model_id and filename for each test run\n",
    "        import uuid\n",
    "        model_id = f\"test_live_progress_{uuid.uuid4().hex[:8]}\"\n",
    "        filename = f\"testfile_{uuid.uuid4().hex[:8]}.bin\"\n",
    "        payload = {\n",
    "            \"model_id\": model_id,\n",
    "            \"model_version_id\": \"v1\",\n",
    "            \"url\": self.TEST_FILE_URL,\n",
    "            \"filename\": filename,\n",
    "            \"model_type\": \"other\"\n",
    "        }\n",
    "        with httpx.Client() as client:\n",
    "            resp = client.post(self.API_URL, json=payload, headers={\"Authorization\": \"Bearer testtoken\"})\n",
    "            print(f\"API response: {resp.status_code} {resp.text}\")\n",
    "            if resp.status_code != 200:\n",
    "                print(\"Download API call failed, skipping progress test.\")\n",
    "                return\n",
    "\n",
    "        events = self.collect_progress_events(model_id, filename)\n",
    "        if len(events) == 0:\n",
    "            print(\"No progress events received!\")\n",
    "        else:\n",
    "            print(f\"Received {len(events)} events.\")\n",
    "            print(\"Last event:\", events[-1])\n",
    "            print(\"Test completed and exited on first download_finished event.\")\n"
   ]
  },
  {
   "cell_type": "markdown",
   "id": "b72be814",
   "metadata": {},
   "source": [
    "# Run the Tests and Display Results\n",
    "\n",
    "The following cell will run the test and display the output. Make sure your backend is running and accessible at `localhost:8000` before running this test."
   ]
  },
  {
   "cell_type": "code",
   "execution_count": null,
   "id": "0d686ca4",
   "metadata": {},
   "outputs": [],
   "source": [
    "unittest.main(argv=[''], verbosity=2, exit=False)"
   ]
  },
  {
   "cell_type": "code",
   "execution_count": null,
   "id": "76f3797f",
   "metadata": {},
   "outputs": [],
   "source": [
    "# Enable testtoken override for authentication (must be run before the test)\n",
    "import httpx\n",
    "resp = httpx.post(\"http://localhost:8000/test/enable-testtoken\")\n",
    "print(resp.status_code, resp.text)\n",
    "if resp.status_code == 200:\n",
    "    print(\"Testtoken override enabled.\")\n",
    "else:\n",
    "    print(f\"Failed to enable testtoken override: {resp.status_code} {resp.text}\")"
   ]
  },
  {
   "cell_type": "code",
   "execution_count": null,
   "id": "95bb6a1e",
   "metadata": {},
   "outputs": [],
   "source": [
    "# Debug: Check CIVITAI_TEST_AUTH environment variable from the backend\n",
    "import httpx\n",
    "resp = httpx.get(\"http://localhost:8000/test/env?key=CIVITAI_TEST_AUTH\")\n",
    "print(\"Backend reports CIVITAI_TEST_AUTH:\", resp.status_code, resp.text)"
   ]
  }
 ],
 "metadata": {
  "kernelspec": {
   "display_name": ".venv",
   "language": "python",
   "name": "python3"
  },
  "language_info": {
   "codemirror_mode": {
    "name": "ipython",
    "version": 3
   },
   "file_extension": ".py",
   "mimetype": "text/x-python",
   "name": "python",
   "nbconvert_exporter": "python",
   "pygments_lexer": "ipython3",
   "version": "3.12.3"
  }
 },
 "nbformat": 4,
 "nbformat_minor": 5
}
